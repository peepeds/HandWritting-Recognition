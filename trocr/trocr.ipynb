{
 "cells": [
  {
   "cell_type": "code",
   "execution_count": null,
   "metadata": {},
   "outputs": [],
   "source": [
    "import transformers\n",
    "print(transformers.__version__)"
   ]
  },
  {
   "cell_type": "code",
   "execution_count": null,
   "metadata": {},
   "outputs": [],
   "source": [
    "import csv\n",
    "import torch\n",
    "from transformers import TrOCRProcessor, VisionEncoderDecoderModel  # import pretrained model\n",
    "import matplotlib.pyplot as plt\n",
    "from sklearn.metrics import confusion_matrix\n",
    "import numpy as np\n",
    "from PIL import Image"
   ]
  },
  {
   "cell_type": "code",
   "execution_count": null,
   "metadata": {},
   "outputs": [],
   "source": [
    "# Fungsi untuk membaca ground truth dari file CSV\n",
    "def read_ground_truth(csv_file):\n",
    "    ground_truth_dict = {}\n",
    "    with open(csv_file, mode='r') as file:\n",
    "        csv_reader = csv.reader(file)\n",
    "        next(csv_reader)  # Lewati header CSV\n",
    "        for row in csv_reader:\n",
    "            image_name = row[0]\n",
    "            ground_truth = row[1]\n",
    "            ground_truth_dict[image_name] = ground_truth\n",
    "    return ground_truth_dict"
   ]
  },
  {
   "cell_type": "code",
   "execution_count": null,
   "metadata": {},
   "outputs": [],
   "source": [
    "# Fungsi untuk memplot grafik akurasi berdasarkan panjang string ground truth\n",
    "def plot_accuracy_graph(accuracies, ground_truth_lengths):\n",
    "    plt.figure(figsize=(10, 6))\n",
    "    plt.plot(ground_truth_lengths, accuracies, marker='o', linestyle='-', color='b', label='Akurasi per Gambar')\n",
    "    plt.xlabel('Panjang String Ground Truth')\n",
    "    plt.ylabel('Akurasi (%)')\n",
    "    plt.title('Akurasi trOCR')\n",
    "    plt.grid(True)\n",
    "    plt.legend()\n",
    "    plt.show()\n"
   ]
  },
  {
   "cell_type": "code",
   "execution_count": null,
   "metadata": {},
   "outputs": [],
   "source": [
    "def plot_accuracy_vs_iteration(accuracies):\n",
    "    # Menghitung rata-rata kumulatif\n",
    "    avg_accuracies = [sum(accuracies[:i + 1]) / (i + 1) for i in range(len(accuracies))]\n",
    "    \n",
    "    plt.figure(figsize=(10, 6))\n",
    "    plt.plot(range(1, len(accuracies) + 1), accuracies, marker='o', linestyle='-', color='g', label='Akurasi per Iterasi')\n",
    "    plt.plot(range(1, len(avg_accuracies) + 1), avg_accuracies, marker='', linestyle='--', color='b', label='Rata-rata Kumulatif')\n",
    "    plt.xlabel('Nomor Iterasi')\n",
    "    plt.ylabel('Akurasi (%)')\n",
    "    plt.title('Akurasi trOCR 30 Char dengan Rata-rata Kumulatif') # ganti dengan keterangan yang sesuai\n",
    "    plt.grid(True)\n",
    "    plt.legend()\n",
    "    plt.show()"
   ]
  },
  {
   "cell_type": "code",
   "execution_count": null,
   "metadata": {},
   "outputs": [],
   "source": [
    "def plot_char_confusion_matrix(y_true_chars, y_pred_chars, labels):\n",
    "    cm = confusion_matrix(y_true_chars, y_pred_chars, labels=labels)\n",
    "    plt.figure(figsize=(10, 7))\n",
    "    plt.imshow(cm, interpolation='nearest', cmap=plt.cm.Blues)\n",
    "    plt.title('Confusion Matrix trOCR')\n",
    "    plt.colorbar()\n",
    "    tick_marks = np.arange(len(labels))\n",
    "    plt.xticks(tick_marks, labels, rotation=45)\n",
    "    plt.yticks(tick_marks, labels)\n",
    "    plt.ylabel('True Labels')\n",
    "    plt.xlabel('Predicted Labels')\n",
    "\n",
    "    for i in range(len(labels)):\n",
    "        for j in range(len(labels)):\n",
    "            plt.text(j, i, cm[i, j], ha='center', va='center', color='red')\n",
    "\n",
    "    plt.tight_layout()\n",
    "    plt.show()"
   ]
  },
  {
   "cell_type": "code",
   "execution_count": null,
   "metadata": {},
   "outputs": [],
   "source": [
    "\n",
    "def plot_f1_graph(f1_scores):\n",
    "    plt.figure(figsize=(10, 6))\n",
    "    plt.plot(range(1, len(f1_scores) + 1), f1_scores, marker='o', linestyle='-', color='r', label='F1 Score per Gambar')\n",
    "    plt.xlabel('Nomor Gambar')\n",
    "    plt.ylabel('F1 Score')\n",
    "    plt.title('F1 Convidence trOCR')\n",
    "    plt.grid(True)\n",
    "    plt.legend()\n",
    "    plt.show()"
   ]
  },
  {
   "cell_type": "code",
   "execution_count": null,
   "metadata": {},
   "outputs": [],
   "source": [
    "# Fungsi untuk menghitung akurasi karakter antara teks yang dikenali dan ground truth\n",
    "def calculate_char_accuracy(recognized_text, ground_truth):\n",
    "    recognized_text = recognized_text.upper()\n",
    "    ground_truth = ground_truth.upper()\n",
    "\n",
    "    TP = sum(1 for i in range(min(len(recognized_text), len(ground_truth))) if recognized_text[i] == ground_truth[i])\n",
    "    FP = sum(1 for i in range(len(recognized_text)) if i >= len(ground_truth) or recognized_text[i] != ground_truth[i])\n",
    "    FN = sum(1 for i in range(len(ground_truth)) if i >= len(recognized_text) or recognized_text[i] != ground_truth[i])\n",
    "\n",
    "    precision = TP / (TP + FP) if (TP + FP) != 0 else 0\n",
    "    recall = TP / (TP + FN) if (TP + FN) != 0 else 0\n",
    "    f1 = 2 * (precision * recall) / (precision + recall) if (precision + recall) != 0 else 0\n",
    "    accuracy = TP / max(len(recognized_text), len(ground_truth)) * 100\n",
    "\n",
    "    return accuracy, f1, TP, FP, FN"
   ]
  },
  {
   "cell_type": "code",
   "execution_count": null,
   "metadata": {},
   "outputs": [],
   "source": [
    "# Inisialisasi model TrOCR\n",
    "processor = TrOCRProcessor.from_pretrained('microsoft/trocr-base-handwritten')\n",
    "model = VisionEncoderDecoderModel.from_pretrained('microsoft/trocr-base-handwritten')\n",
    "\n",
    "# Fungsi untuk mengenali tulisan tangan pada gambar\n",
    "def recognize_handwriting(image_path):\n",
    "    image = Image.open(image_path).convert(\"RGB\")\n",
    "    # Proses gambar untuk model\n",
    "    pixel_values = processor(images=image, return_tensors=\"pt\").pixel_values\n",
    "\n",
    "    # Menghasilkan prediksi\n",
    "    with torch.no_grad():\n",
    "        generated_ids = model.generate(pixel_values)\n",
    "\n",
    "    # Mengonversi id kembali menjadi teks\n",
    "    recognized_text = processor.decode(generated_ids[0], skip_special_tokens=True)\n",
    "    return recognized_text"
   ]
  },
  {
   "cell_type": "code",
   "execution_count": null,
   "metadata": {},
   "outputs": [],
   "source": [
    "# Fungsi utama untuk menguji model dengan data ground truth\n",
    "def evaluate_model(csv_file, image_folder):\n",
    "    ground_truth_dict = read_ground_truth(csv_file)\n",
    "    predicted_texts = []\n",
    "    ground_truths = []\n",
    "    accuracies = []\n",
    "    ground_truth_lengths = []\n",
    "    y_true_chars = []  # Untuk menyimpan karakter-karakter ground truth\n",
    "    y_pred_chars = []  # Untuk menyimpan karakter-karakter prediksi\n",
    "    f1_scores = []\n",
    "\n",
    "    # Proses setiap gambar TEST_1.jpg sampai TEST_19.jpg dan bandingkan dengan ground truth\n",
    "    for i in range(1, 11):\n",
    "        image_name = f\"TEST_{i}.png\"\n",
    "        if image_name in ground_truth_dict:\n",
    "            ground_truth = ground_truth_dict[image_name]\n",
    "            image_path = f\"{image_folder}/{image_name}\"\n",
    "            recognized_text = recognize_handwriting(image_path)\n",
    "\n",
    "            # Ubah teks yang dikenali dan ground truth ke uppercase untuk perbandingan yang konsisten\n",
    "            recognized_text = recognized_text.upper()\n",
    "            ground_truth = ground_truth.upper()\n",
    "\n",
    "            # Output prediksi untuk gambar tertentu\n",
    "            print(f\"Nama Gambar: {image_name}\")\n",
    "            print(f\"Ground Truth: {ground_truth}\")\n",
    "            print(f\"Teks yang Dikenali: {recognized_text}\")\n",
    "        \n",
    "            accuracy, f1, TP, FP, FN = calculate_char_accuracy(recognized_text, ground_truth)\n",
    "            accuracies.append(accuracy)\n",
    "            ground_truth_lengths.append(len(ground_truth))\n",
    "\n",
    "            f1_scores.append(f1)\n",
    "            \n",
    "            predicted_texts.append(recognized_text)\n",
    "            ground_truths.append(ground_truth)\n",
    "\n",
    "            # Menambahkan karakter-karakter ground truth dan prediksi untuk confusion matrix\n",
    "            y_true_chars.extend(list(ground_truth))\n",
    "            y_pred_chars.extend(list(recognized_text))\n",
    "\n",
    "            # Mengisi dengan padding jika panjangnya berbeda\n",
    "            max_len = max(len(y_true_chars), len(y_pred_chars))\n",
    "            while len(y_true_chars) < max_len:\n",
    "                y_true_chars.append('-')\n",
    "            while len(y_pred_chars) < max_len:\n",
    "                y_pred_chars.append('-')\n",
    "\n",
    "    # Plot grafik akurasi\n",
    "    # plot_accuracy_graph(accuracies, ground_truth_lengths)\n",
    "\n",
    "    # Plot confusion matrix berdasarkan kemunculan karakter\n",
    "    labels = sorted(set(y_true_chars))  # Menentukan label berdasarkan karakter-karakter unik\n",
    "    plot_char_confusion_matrix(y_true_chars, y_pred_chars, labels)\n",
    "\n",
    "    plot_f1_graph(f1_scores)\n",
    "    plot_accuracy_vs_iteration(accuracies)"
   ]
  },
  {
   "cell_type": "code",
   "execution_count": null,
   "metadata": {},
   "outputs": [],
   "source": [
    "# Contoh pemanggilan fungsi untuk mengevaluasi model\n",
    "csv_file = \"../Capital/26-30/GROUND_TRUTH30.csv\" # Ganti dengan path ke file CSV ground truth\n",
    "image_folder = \"../Capital/26-30/\" # Ganti dengan path ke folder gambar yang diinginkan\n",
    "evaluate_model(csv_file, image_folder)\n"
   ]
  }
 ],
 "metadata": {
  "kernelspec": {
   "display_name": "myenv",
   "language": "python",
   "name": "python3"
  },
  "language_info": {
   "codemirror_mode": {
    "name": "ipython",
    "version": 3
   },
   "file_extension": ".py",
   "mimetype": "text/x-python",
   "name": "python",
   "nbconvert_exporter": "python",
   "pygments_lexer": "ipython3",
   "version": "3.12.7"
  }
 },
 "nbformat": 4,
 "nbformat_minor": 2
}
