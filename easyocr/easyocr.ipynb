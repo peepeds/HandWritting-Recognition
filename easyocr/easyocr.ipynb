{
 "cells": [
  {
   "cell_type": "code",
   "execution_count": 1,
   "metadata": {},
   "outputs": [],
   "source": [
    "import easyocr\n",
    "import cv2\n",
    "import numpy as np\n",
    "import csv\n",
    "import matplotlib.pyplot as plt\n",
    "from sklearn.metrics import confusion_matrix, f1_score"
   ]
  },
  {
   "cell_type": "code",
   "execution_count": 2,
   "metadata": {},
   "outputs": [],
   "source": [
    "# Fungsi untuk membaca dan memproses gambar, lalu mengenali teks\n",
    "def recognize_text(image_path):\n",
    "    reader = easyocr.Reader(['en'], gpu=True)  # Memuat sekali saja ke memori.\n",
    "    image = cv2.imread(image_path)\n",
    "    gray = cv2.cvtColor(image, cv2.COLOR_BGR2GRAY)\n",
    "    sharpen_kernel = np.array([[-1, -1, -1], [-1, 9, -1], [-1, -1, -1]])\n",
    "    sharpen = cv2.filter2D(gray, -1, sharpen_kernel)\n",
    "    thresh = cv2.threshold(sharpen, 0, 255, cv2.THRESH_BINARY_INV + cv2.THRESH_OTSU)[1]\n",
    "    kernel = np.ones((3, 3), np.uint8)\n",
    "    morph = cv2.morphologyEx(thresh, cv2.MORPH_CLOSE, kernel)\n",
    "    r_easy_ocr = reader.readtext(morph, detail=0)\n",
    "    recognized_text = \" \".join(r_easy_ocr)\n",
    "    return recognized_text"
   ]
  },
  {
   "cell_type": "code",
   "execution_count": 3,
   "metadata": {},
   "outputs": [],
   "source": [
    "\n",
    "# Fungsi untuk membaca ground truth dari file CSV\n",
    "def read_ground_truth(csv_file):\n",
    "    ground_truth_dict = {}\n",
    "    with open(csv_file, mode='r') as file:\n",
    "        csv_reader = csv.reader(file)\n",
    "        next(csv_reader)  # Lewati header CSV\n",
    "        for row in csv_reader:\n",
    "            image_name = row[0]\n",
    "            ground_truth = row[1]\n",
    "            ground_truth_dict[image_name] = ground_truth\n",
    "    return ground_truth_dict"
   ]
  },
  {
   "cell_type": "code",
   "execution_count": 4,
   "metadata": {},
   "outputs": [],
   "source": [
    "def read_ground_truth(csv_file):\n",
    "    ground_truth_dict = {}\n",
    "    with open(csv_file, mode='r') as file:\n",
    "        csv_reader = csv.reader(file)\n",
    "        next(csv_reader)  # Lewati header CSV\n",
    "        for row in csv_reader:\n",
    "            image_name = row[0]\n",
    "            ground_truth = row[1]\n",
    "            ground_truth_dict[image_name] = ground_truth\n",
    "    return ground_truth_dict"
   ]
  },
  {
   "cell_type": "code",
   "execution_count": 5,
   "metadata": {},
   "outputs": [],
   "source": [
    "# Fungsi untuk menghitung akurasi per karakter\n",
    "def calculate_char_accuracy(recognized_text, ground_truth):\n",
    "    recognized_text = recognized_text.upper()\n",
    "    ground_truth = ground_truth.upper()\n",
    "    TP = sum(1 for i in range(min(len(recognized_text), len(ground_truth))) if recognized_text[i] == ground_truth[i])\n",
    "    FP = sum(1 for i in range(len(recognized_text)) if i >= len(ground_truth) or recognized_text[i] != ground_truth[i])\n",
    "    FN = sum(1 for i in range(len(ground_truth)) if i >= len(recognized_text) or recognized_text[i] != ground_truth[i])\n",
    "    precision = TP / (TP + FP) if (TP + FP) != 0 else 0\n",
    "    recall = TP / (TP + FN) if (TP + FN) != 0 else 0\n",
    "    f1 = 2 * (precision * recall) / (precision + recall) if (precision + recall) != 0 else 0\n",
    "    accuracy = TP / max(len(recognized_text), len(ground_truth)) * 100\n",
    "    return accuracy, f1, TP, FP, FN"
   ]
  },
  {
   "cell_type": "code",
   "execution_count": 6,
   "metadata": {},
   "outputs": [],
   "source": [
    "# Fungsi untuk memplot confusion matrix\n",
    "def plot_confusion_matrix(y_true, y_pred, labels):\n",
    "    cm = confusion_matrix(y_true, y_pred, labels=labels)\n",
    "    plt.figure(figsize=(10, 7))\n",
    "    plt.imshow(cm, interpolation='nearest', cmap=plt.cm.Blues)\n",
    "    plt.title('Confusion Matrix easyOCR')\n",
    "    plt.colorbar()\n",
    "    tick_marks = np.arange(len(labels))\n",
    "    plt.xticks(tick_marks, labels, rotation=45)\n",
    "    plt.yticks(tick_marks, labels)\n",
    "    plt.ylabel('True Labels')\n",
    "    plt.xlabel('Predicted Labels')\n",
    "    for i in range(len(labels)):\n",
    "        for j in range(len(labels)):\n",
    "            plt.text(j, i, cm[i, j], ha='center', va='center', color='red')\n",
    "    plt.tight_layout()\n",
    "    plt.show()"
   ]
  },
  {
   "cell_type": "code",
   "execution_count": 7,
   "metadata": {},
   "outputs": [],
   "source": [
    "# Fungsi untuk memplot grafik akurasi\n",
    "def plot_accuracy_graph(accuracies, ground_truth_lengths):\n",
    "    plt.figure(figsize=(10, 6))\n",
    "    plt.plot(ground_truth_lengths, accuracies, marker='o', linestyle='-', color='b', label='Akurasi per Gambar')\n",
    "    plt.xlabel('Panjang String Ground Truth')\n",
    "    plt.ylabel('Akurasi (%)')\n",
    "    plt.title('Akurasi easyOCR')\n",
    "    plt.grid(True)\n",
    "    plt.legend()\n",
    "    plt.show()"
   ]
  },
  {
   "cell_type": "code",
   "execution_count": 8,
   "metadata": {},
   "outputs": [],
   "source": [
    "\n",
    "# Fungsi untuk memplot grafik F1 Score\n",
    "def plot_f1_graph(f1_scores):\n",
    "    plt.figure(figsize=(10, 6))\n",
    "    plt.plot(range(1, len(f1_scores) + 1), f1_scores, marker='o', linestyle='-', color='r', label='F1 Score per Gambar')\n",
    "    plt.xlabel('Nomor Gambar')\n",
    "    plt.ylabel('F1 Score')\n",
    "    plt.title('F1 Convidence easyOCR')\n",
    "    plt.grid(True)\n",
    "    plt.legend()\n",
    "    plt.show()"
   ]
  },
  {
   "cell_type": "code",
   "execution_count": 9,
   "metadata": {},
   "outputs": [],
   "source": [
    "# Fungsi untuk memplot grafik akurasi terhadap nomor iterasi dengan rata-rata\n",
    "def plot_accuracy_vs_iteration(accuracies):\n",
    "    # Menghitung rata-rata kumulatif\n",
    "    avg_accuracies = [sum(accuracies[:i + 1]) / (i + 1) for i in range(len(accuracies))]\n",
    "    \n",
    "    plt.figure(figsize=(10, 6))\n",
    "    plt.plot(range(1, len(accuracies) + 1), accuracies, marker='o', linestyle='-', color='g', label='Akurasi per Iterasi')\n",
    "    plt.plot(range(1, len(avg_accuracies) + 1), avg_accuracies, marker='', linestyle='--', color='b', label='Rata-rata Kumulatif')\n",
    "    plt.xlabel('Nomor Iterasi')\n",
    "    plt.ylabel('Akurasi (%)')\n",
    "    plt.title('Akurasi easyOCR 30 Char dengan Rata-rata Kumulatif') # ganti dengan kebutuhan\n",
    "    plt.grid(True)\n",
    "    plt.legend()\n",
    "    plt.show()\n"
   ]
  },
  {
   "cell_type": "code",
   "execution_count": 10,
   "metadata": {},
   "outputs": [],
   "source": [
    "\n",
    "# Membaca ground truth dari file CSV\n",
    "ground_truth_file = '../Capital/26-30/GROUND_TRUTH30.csv' # ganti dengan path file ground truth yang diinginkan \n",
    "ground_truth_dict = read_ground_truth(ground_truth_file)\n",
    "\n",
    "all_true = []\n",
    "all_pred = []\n",
    "accuracies = []\n",
    "f1_scores = []  # Menyimpan F1 Score per gambar\n",
    "ground_truth_lengths = []"
   ]
  },
  {
   "cell_type": "code",
   "execution_count": null,
   "metadata": {},
   "outputs": [],
   "source": [
    "for i in range(1, 11):\n",
    "    image_path = f'../Capital/26-30/TEST_{i}.png' # ganti dengan path file gambar yang diinginkan\n",
    "    recognized_text = recognize_text(image_path)\n",
    "    image_name = f'TEST_{i}.png'\n",
    "    ground_truth = ground_truth_dict.get(image_name, \"\")\n",
    "    accuracy, f1, TP, FP, FN = calculate_char_accuracy(recognized_text, ground_truth)\n",
    "    all_true.extend(list(ground_truth.upper()))\n",
    "    if recognized_text:\n",
    "        all_pred.extend(list(recognized_text.upper()))\n",
    "    else:\n",
    "        all_pred.extend([''] * len(ground_truth))\n",
    "    accuracies.append(accuracy)\n",
    "    f1_scores.append(f1)  # Menyimpan F1 score untuk gambar ini\n",
    "    ground_truth_lengths.append(len(ground_truth))\n",
    "    print(f\"Gambar {i} - Akurasi: {accuracy:.2f}% - F1 Score: {f1:.2f} - TP: {TP} - FP: {FP} - FN: {FN}\")\n",
    "\n",
    "if len(all_true) > len(all_pred):\n",
    "    all_pred.extend([''] * (len(all_true) - len(all_pred)))\n",
    "elif len(all_true) < len(all_pred):\n",
    "    all_true.extend([''] * (len(all_pred) - len(all_true)))\n",
    " # Menampilkan grafik F1 Score per gambar\n"
   ]
  },
  {
   "cell_type": "code",
   "execution_count": null,
   "metadata": {},
   "outputs": [],
   "source": [
    "conf_matrix = confusion_matrix(all_true, all_pred, labels=list(set(all_true + all_pred)))\n",
    "f1_total = f1_score(all_true, all_pred, average='weighted')\n",
    "\n",
    "print(\"\\nConfusion Matrix:\")\n",
    "print(conf_matrix)\n",
    "print(f\"Total F1 Score (Weighted): {f1_total:.2f}\")\n",
    "\n",
    "labels = sorted(set(all_pred))\n",
    "plot_confusion_matrix(all_true, all_pred, labels)\n",
    "# plot_accuracy_graph(accuracies, ground_truth_lengths)\n",
    "plot_f1_graph(f1_scores)  # Menampilkan grafik F1 Score per gambar\n",
    "plot_accuracy_vs_iteration(accuracies)  # Menampilkan grafik akurasi terhadap nomor iterasi"
   ]
  }
 ],
 "metadata": {
  "kernelspec": {
   "display_name": "myenv",
   "language": "python",
   "name": "python3"
  },
  "language_info": {
   "codemirror_mode": {
    "name": "ipython",
    "version": 3
   },
   "file_extension": ".py",
   "mimetype": "text/x-python",
   "name": "python",
   "nbconvert_exporter": "python",
   "pygments_lexer": "ipython3",
   "version": "3.12.7"
  }
 },
 "nbformat": 4,
 "nbformat_minor": 2
}
