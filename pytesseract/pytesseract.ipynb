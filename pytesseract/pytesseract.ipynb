{
  "cells": [
    {
      "cell_type": "markdown",
      "metadata": {},
      "source": [
        "#Prerequisite\n",
        "- Upload Folder Capital on root folder to google drive\n",
        "- Upload this code to google colab \n",
        "- mount drive"
      ]
    },
    {
      "cell_type": "code",
      "execution_count": null,
      "metadata": {
        "id": "hiWevJTZFHkb"
      },
      "outputs": [],
      "source": [
        "#works in colab not in local\n",
        "!sudo apt install tesseract-ocr\n",
        "!pip install pytesseract"
      ]
    },
    {
      "cell_type": "code",
      "execution_count": null,
      "metadata": {
        "id": "Ds7Yv4EWFKE_"
      },
      "outputs": [],
      "source": [
        "from google.colab import drive\n",
        "drive.mount('/content/drive/')"
      ]
    },
    {
      "cell_type": "code",
      "execution_count": null,
      "metadata": {},
      "outputs": [],
      "source": [
        "from PIL import Image\n",
        "\n",
        "import pytesseract\n",
        "import cv2\n",
        "import numpy as np\n",
        "import csv\n",
        "import matplotlib.pyplot as plt\n",
        "from sklearn.metrics import confusion_matrix, f1_score\n"
      ]
    },
    {
      "cell_type": "code",
      "execution_count": null,
      "metadata": {},
      "outputs": [],
      "source": [
        "# Fungsi untuk membaca dan memproses gambar, lalu mengenali teks\n",
        "def recognize_text(image_path):\n",
        "    # Membaca gambar\n",
        "    image = cv2.imread(image_path)\n",
        "\n",
        "    # Check if image is loaded successfully\n",
        "    if image is None:\n",
        "        print(f\"Error: Could not load image at path: {image_path}\")\n",
        "        return \"\"  # Return empty string if image loading fails\n",
        "\n",
        "    # Mengonversi gambar ke grayscale\n",
        "    gray = cv2.cvtColor(image, cv2.COLOR_BGR2GRAY)\n",
        "\n",
        "    # Mengasah tepi gambar\n",
        "    sharpen_kernel = np.array([[-1, -1, -1], [-1, 9, -1], [-1, -1, -1]])\n",
        "    sharpen = cv2.filter2D(gray, -1, sharpen_kernel)\n",
        "\n",
        "    # Menerapkan thresholding untuk mendapatkan gambar biner\n",
        "    thresh = cv2.threshold(sharpen, 0, 255, cv2.THRESH_BINARY_INV + cv2.THRESH_OTSU)[1]\n",
        "\n",
        "    # Opsional, Anda dapat menerapkan operasi morfologi untuk meningkatkan pengenalan teks\n",
        "    kernel = np.ones((3, 3), np.uint8)\n",
        "    morph = cv2.morphologyEx(thresh, cv2.MORPH_CLOSE, kernel)\n",
        "\n",
        "    # Menggunakan pytesseract untuk membaca teks dari gambar yang diproses\n",
        "    recognized_text = pytesseract.image_to_string(morph)\n",
        "\n",
        "    return recognized_text"
      ]
    },
    {
      "cell_type": "code",
      "execution_count": null,
      "metadata": {},
      "outputs": [],
      "source": [
        "# Fungsi untuk membaca ground truth dari file CSV\n",
        "def read_ground_truth(csv_file):\n",
        "    ground_truth_dict = {}\n",
        "    with open(csv_file, mode='r') as file:\n",
        "        csv_reader = csv.reader(file)\n",
        "        next(csv_reader)  # Lewati header CSV\n",
        "        for row in csv_reader:\n",
        "            image_name = row[0]\n",
        "            ground_truth = row[1]\n",
        "            ground_truth_dict[image_name] = ground_truth\n",
        "    return ground_truth_dict"
      ]
    },
    {
      "cell_type": "code",
      "execution_count": null,
      "metadata": {},
      "outputs": [],
      "source": [
        "# Fungsi untuk menghitung akurasi per karakter\n",
        "def calculate_char_accuracy(recognized_text, ground_truth):\n",
        "    recognized_text = recognized_text.upper()\n",
        "    ground_truth = ground_truth.upper()\n",
        "\n",
        "    TP = sum(1 for i in range(min(len(recognized_text), len(ground_truth))) if recognized_text[i] == ground_truth[i])\n",
        "    FP = sum(1 for i in range(len(recognized_text)) if i >= len(ground_truth) or recognized_text[i] != ground_truth[i])\n",
        "    FN = sum(1 for i in range(len(ground_truth)) if i >= len(recognized_text) or recognized_text[i] != ground_truth[i])\n",
        "\n",
        "    precision = TP / (TP + FP) if (TP + FP) != 0 else 0\n",
        "    recall = TP / (TP + FN) if (TP + FN) != 0 else 0\n",
        "    f1 = 2 * (precision * recall) / (precision + recall) if (precision + recall) != 0 else 0\n",
        "\n",
        "    # Check if the denominator is zero before calculating accuracy\n",
        "    denominator = max(len(recognized_text), len(ground_truth))\n",
        "    accuracy = (TP / denominator) * 100 if denominator != 0 else 0  # Assign 0 if denominator is 0\n",
        "\n",
        "    return accuracy, f1, TP, FP, FN"
      ]
    },
    {
      "cell_type": "code",
      "execution_count": null,
      "metadata": {},
      "outputs": [],
      "source": [
        "# Fungsi untuk memplot confusion matrix\n",
        "def plot_confusion_matrix(y_true, y_pred, labels):\n",
        "    cm = confusion_matrix(y_true, y_pred, labels=labels)\n",
        "    plt.figure(figsize=(10, 7))\n",
        "    plt.imshow(cm, interpolation='nearest', cmap=plt.cm.Blues)\n",
        "    plt.title('Confusion Matrix tesseract')\n",
        "    plt.colorbar()\n",
        "    tick_marks = np.arange(len(labels))\n",
        "    plt.xticks(tick_marks, labels, rotation=45)\n",
        "    plt.yticks(tick_marks, labels)\n",
        "    plt.ylabel('True Labels')\n",
        "    plt.xlabel('Predicted Labels')\n",
        "\n",
        "    for i in range(len(labels)):\n",
        "        for j in range(len(labels)):\n",
        "            plt.text(j, i, cm[i, j], ha='center', va='center', color='red')\n",
        "\n",
        "    plt.tight_layout()\n",
        "    plt.show()"
      ]
    },
    {
      "cell_type": "code",
      "execution_count": null,
      "metadata": {},
      "outputs": [],
      "source": [
        "# Fungsi untuk memplot grafik akurasi\n",
        "def plot_accuracy_graph(accuracies, ground_truth_lengths):\n",
        "    plt.figure(figsize=(10, 6))\n",
        "    plt.plot(ground_truth_lengths, accuracies, marker='o', linestyle='-', color='b', label='Akurasi per Gambar')\n",
        "    plt.xlabel('Panjang String Ground Truth')\n",
        "    plt.ylabel('Akurasi (%)')\n",
        "    plt.title('Akurasi tesseract')\n",
        "    plt.grid(True)\n",
        "    plt.legend()\n",
        "    plt.show()"
      ]
    },
    {
      "cell_type": "code",
      "execution_count": null,
      "metadata": {},
      "outputs": [],
      "source": [
        "def plot_accuracy_vs_iteration(accuracies):\n",
        "    # Menghitung rata-rata kumulatif\n",
        "    avg_accuracies = [sum(accuracies[:i + 1]) / (i + 1) for i in range(len(accuracies))]\n",
        "\n",
        "    plt.figure(figsize=(10, 6))\n",
        "    plt.plot(range(1, len(accuracies) + 1), accuracies, marker='o', linestyle='-', color='g', label='Akurasi per Iterasi')\n",
        "    plt.plot(range(1, len(avg_accuracies) + 1), avg_accuracies, marker='', linestyle='--', color='b', label='Rata-rata Kumulatif')\n",
        "    plt.xlabel('Nomor Iterasi')\n",
        "    plt.ylabel('Akurasi (%)')\n",
        "    plt.title('Akurasi pyTesseract 30 Char dengan Rata-rata Kumulatif')\n",
        "    plt.grid(True)\n",
        "    plt.legend()\n",
        "    plt.show()"
      ]
    },
    {
      "cell_type": "code",
      "execution_count": null,
      "metadata": {},
      "outputs": [],
      "source": [
        "def plot_f1_graph(f1_scores):\n",
        "    plt.figure(figsize=(10, 6))\n",
        "    plt.plot(range(1, len(f1_scores) + 1), f1_scores, marker='o', linestyle='-', color='r', label='F1 Score per Gambar')\n",
        "    plt.xlabel('Nomor Gambar')\n",
        "    plt.ylabel('F1 Score')\n",
        "    plt.title('F1 Convidence tesseract')\n",
        "    plt.grid(True)\n",
        "    plt.legend()\n",
        "    plt.show()"
      ]
    },
    {
      "cell_type": "code",
      "execution_count": null,
      "metadata": {},
      "outputs": [],
      "source": [
        "# Membaca ground truth dari file CSV\n",
        "ground_truth_file = 'drive/MyDrive/Capital/GROUND_TRUTH.csv'  # Ganti dengan path file CSV sesuai dengan path gdrive Anda\n",
        "ground_truth_dict = read_ground_truth(ground_truth_file)\n",
        "\n",
        "# Variabel untuk menghitung confusion matrix dan F1 score total\n",
        "all_true = []\n",
        "all_pred = []\n",
        "f1_scores = []\n",
        "\n",
        "# Variabel untuk menyimpan akurasi per gambar\n",
        "accuracies = []\n",
        "ground_truth_lengths = []  # Menyimpan panjang karakter ground truth"
      ]
    },
    {
      "cell_type": "code",
      "execution_count": null,
      "metadata": {
        "id": "jq49UwZz7a_n"
      },
      "outputs": [],
      "source": [
        "# Loop melalui gambar TEST_1.jpg hingga TEST_19.jpg dan bandingkan hasilnya\n",
        "for i in range(1, 36):\n",
        "    # Membuat path file gambar\n",
        "    image_path = f'drive/MyDrive/Capital/TEST_{i}.png' # Ganti dengan path gambar sesuai dengan path gdrive \n",
        "\n",
        "    # Memanggil fungsi recognize_text\n",
        "    recognized_text = recognize_text(image_path)\n",
        "\n",
        "    # Mencari ground truth untuk gambar ini\n",
        "    image_name = f'TEST_{i}.png'\n",
        "    ground_truth = ground_truth_dict.get(image_name, \"\")\n",
        "\n",
        "    # Menghitung akurasi karakter, F1 score, dan confusion matrix\n",
        "    accuracy, f1, TP, FP, FN = calculate_char_accuracy(recognized_text, ground_truth)\n",
        "\n",
        "    f1_scores.append(f1)\n",
        "\n",
        "    # Menyimpan nilai untuk confusion matrix global\n",
        "    all_true.extend(list(ground_truth.upper()))  # Menyimpan ground truth\n",
        "    if recognized_text:  # Pastikan recognized_text tidak kosong\n",
        "        all_pred.extend(list(recognized_text.upper()))  # Menyimpan hasil pengenalan\n",
        "    else:\n",
        "        all_pred.extend([''] * len(ground_truth))  # Menambahkan karakter kosong jika tidak ada teks yang dikenali\n",
        "\n",
        "    # Menyimpan akurasi per gambar dan panjang karakter ground truth\n",
        "    accuracies.append(accuracy)\n",
        "    ground_truth_lengths.append(len(ground_truth))  # Menyimpan panjang karakter ground truth\n",
        "\n",
        "    # Menampilkan hasil per gambar\n",
        "    print(f\"Gambar {i} - Akurasi: {accuracy:.2f}% - F1 Score: {f1:.2f} - TP: {TP} - FP: {FP} - FN: {FN}\")\n",
        "\n",
        "# Menyesuaikan panjang all_pred agar sesuai dengan all_true (padding jika perlu)\n",
        "if len(all_true) > len(all_pred):\n",
        "    all_pred.extend([''] * (len(all_true) - len(all_pred)))  # Padding untuk all_pred\n",
        "elif len(all_true) < len(all_pred):\n",
        "    all_true.extend([''] * (len(all_pred) - len(all_true)))  # Padding untuk all_true\n",
        "\n",
        "# Menghitung confusion matrix secara keseluruhan\n",
        "# Menghitung confusion matrix secara keseluruhan\n",
        "label = sorted(set(all_pred))  # This line can be removed or repurposed if needed\n",
        "conf_matrix = confusion_matrix(all_true, all_pred, labels=label)  # Change here: label to labels=label\n",
        "f1_total = f1_score(all_true, all_pred, average='weighted')\n",
        "\n",
        "# Menampilkan confusion matrix dan F1 score total\n",
        "print(\"\\nConfusion Matrix:\")\n",
        "print(conf_matrix)\n",
        "print(f\"Total F1 Score (Weighted): {f1_total:.2f}\")\n",
        "\n",
        "labels = sorted(set(all_pred))\n",
        "\n",
        "\n"
      ]
    },
    {
      "cell_type": "code",
      "execution_count": null,
      "metadata": {
        "id": "1x4E_3vaSlEA"
      },
      "outputs": [],
      "source": [
        "plot_confusion_matrix(all_true, all_pred, labels)\n"
      ]
    },
    {
      "cell_type": "code",
      "execution_count": null,
      "metadata": {
        "id": "4Hckdpm3B212"
      },
      "outputs": [],
      "source": [
        "plot_accuracy_graph(accuracies, ground_truth_lengths)"
      ]
    },
    {
      "cell_type": "code",
      "execution_count": null,
      "metadata": {
        "id": "7RUQHbt1S5D5"
      },
      "outputs": [],
      "source": [
        "plot_f1_graph(f1_scores)\n"
      ]
    }
  ],
  "metadata": {
    "colab": {
      "provenance": []
    },
    "kernelspec": {
      "display_name": "myenv",
      "language": "python",
      "name": "python3"
    },
    "language_info": {
      "name": "python",
      "version": "3.12.7"
    }
  },
  "nbformat": 4,
  "nbformat_minor": 0
}
